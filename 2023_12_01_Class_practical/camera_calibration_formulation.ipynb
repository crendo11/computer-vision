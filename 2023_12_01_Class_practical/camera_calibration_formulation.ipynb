{
 "cells": [
  {
   "cell_type": "code",
   "execution_count": 1,
   "metadata": {},
   "outputs": [],
   "source": [
    "from sympy import *"
   ]
  },
  {
   "cell_type": "markdown",
   "metadata": {},
   "source": [
    "# Define the variables of the system"
   ]
  },
  {
   "cell_type": "code",
   "execution_count": 3,
   "metadata": {},
   "outputs": [
    {
     "data": {
      "text/latex": [
       "$\\displaystyle x_{i}$"
      ],
      "text/plain": [
       "x_i"
      ]
     },
     "execution_count": 3,
     "metadata": {},
     "output_type": "execute_result"
    }
   ],
   "source": [
    "xi,yi,zi,M11,M12,M13,M21,M22,M23,M31,M32,M33,Tx,Ty,Tz,fu,fuv,fv,u0,v0 = symbols('x_i y_i z_i M_11 M12 M13 M21 M22 M23 M31 M32 M33 Tx Ty Tz fu fuv fv u0 v0')\n",
    "xi"
   ]
  },
  {
   "cell_type": "code",
   "execution_count": 4,
   "metadata": {},
   "outputs": [],
   "source": [
    "K = Matrix([[fu, fuv, u0, 0], [0, fv, v0, 0], [0, 0, 1, 0], [0,0,0,1]])\n",
    "M = Matrix([[M11, M12, M13, Tx], [M21,M22,M23,Ty], [M31,M32,M33,Tz], [0, 0, 0, 1]])\n",
    "pi = Matrix([[xi],[yi], [zi],[1]])"
   ]
  },
  {
   "cell_type": "code",
   "execution_count": 5,
   "metadata": {},
   "outputs": [
    {
     "data": {
      "text/latex": [
       "$\\displaystyle \\left[\\begin{matrix}Tx fu + Ty fuv + Tz u_{0} + x_{i} \\left(M_{21} fuv + M_{31} u_{0} + M_{11} fu\\right) + y_{i} \\left(M_{12} fu + M_{22} fuv + M_{32} u_{0}\\right) + z_{i} \\left(M_{13} fu + M_{23} fuv + M_{33} u_{0}\\right)\\\\Ty fv + Tz v_{0} + x_{i} \\left(M_{21} fv + M_{31} v_{0}\\right) + y_{i} \\left(M_{22} fv + M_{32} v_{0}\\right) + z_{i} \\left(M_{23} fv + M_{33} v_{0}\\right)\\\\M_{31} x_{i} + M_{32} y_{i} + M_{33} z_{i} + Tz\\\\1\\end{matrix}\\right]$"
      ],
      "text/plain": [
       "Matrix([\n",
       "[Tx*fu + Ty*fuv + Tz*u0 + x_i*(M21*fuv + M31*u0 + M_11*fu) + y_i*(M12*fu + M22*fuv + M32*u0) + z_i*(M13*fu + M23*fuv + M33*u0)],\n",
       "[                                        Ty*fv + Tz*v0 + x_i*(M21*fv + M31*v0) + y_i*(M22*fv + M32*v0) + z_i*(M23*fv + M33*v0)],\n",
       "[                                                                                             M31*x_i + M32*y_i + M33*z_i + Tz],\n",
       "[                                                                                                                            1]])"
      ]
     },
     "execution_count": 5,
     "metadata": {},
     "output_type": "execute_result"
    }
   ],
   "source": [
    "K @ M @ pi"
   ]
  }
 ],
 "metadata": {
  "kernelspec": {
   "display_name": "venv",
   "language": "python",
   "name": "python3"
  },
  "language_info": {
   "codemirror_mode": {
    "name": "ipython",
    "version": 3
   },
   "file_extension": ".py",
   "mimetype": "text/x-python",
   "name": "python",
   "nbconvert_exporter": "python",
   "pygments_lexer": "ipython3",
   "version": "3.10.11"
  }
 },
 "nbformat": 4,
 "nbformat_minor": 2
}
